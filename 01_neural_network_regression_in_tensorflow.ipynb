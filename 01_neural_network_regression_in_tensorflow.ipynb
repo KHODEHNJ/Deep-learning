{
  "cells": [
    {
      "cell_type": "markdown",
      "source": [
        "# **Steps in modelling with TensorFlow**\n",
        "\n",
        "Creating a model - piece together the layers of a neural network yourself (using the Functional or Sequential API) or import a previously built model (known as transfer learning).\n",
        "\n",
        "Compiling a model - defining how a models performance should be measured (loss/metrics) as well as defining how it should improve (optimizer).\n",
        "\n",
        "Fitting a model - letting the model try to find patterns in the data (how does X get to y).\n",
        "\n"
      ],
      "metadata": {
        "id": "ANpTSGesK0VU"
      }
    },
    {
      "cell_type": "code",
      "source": [
        "import tensorflow as tf\n",
        "from tensorflow.keras import layers, models\n",
        "import numpy as np\n",
        "import matplotlib.pyplot as plt"
      ],
      "metadata": {
        "id": "ZBxL9Xo_FRjF"
      },
      "execution_count": 28,
      "outputs": []
    },
    {
      "cell_type": "code",
      "source": [
        "np.random.seed(42)\n",
        "x= np.linspace(0, 10, 100)\n",
        "y = 2 * x + 1 + np.random.randn(100) * 1.5"
      ],
      "metadata": {
        "id": "xTciwmAxJpeU"
      },
      "execution_count": 29,
      "outputs": []
    },
    {
      "cell_type": "code",
      "source": [
        "x = x.reshape(-1, 1)\n",
        "y = y.reshape(-1, 1)"
      ],
      "metadata": {
        "id": "DEqscEV4JsyG"
      },
      "execution_count": 30,
      "outputs": []
    },
    {
      "cell_type": "markdown",
      "source": [
        "\n",
        "# **Improving a model**\n",
        "\n",
        "Creating a model - here you might want to add more layers, increase the number of hidden units (also called neurons) within each layer, change the activation functions of each layer.\n",
        "\n",
        "Compiling a model - you might want to choose optimization function or perhaps change the learning rate of the optimization function.\n",
        "\n",
        "Fitting a model - perhaps you could fit a model for more epochs (leave it training for longer) or on more data (give the model more examples to learn from).\n",
        "\n"
      ],
      "metadata": {
        "id": "8amRb0sYLYgm"
      }
    },
    {
      "cell_type": "code",
      "source": [
        "model = models.Sequential([\n",
        "    layers.Dense(10, activation='relu', input_shape=(1,)),\n",
        "    layers.Dense(1)\n",
        "])"
      ],
      "metadata": {
        "id": "Ycds6eVcJuFN",
        "outputId": "cb83bac9-9543-42ba-f5b3-2e10da544982",
        "colab": {
          "base_uri": "https://localhost:8080/"
        }
      },
      "execution_count": 31,
      "outputs": [
        {
          "output_type": "stream",
          "name": "stderr",
          "text": [
            "/usr/local/lib/python3.11/dist-packages/keras/src/layers/core/dense.py:87: UserWarning: Do not pass an `input_shape`/`input_dim` argument to a layer. When using Sequential models, prefer using an `Input(shape)` object as the first layer in the model instead.\n",
            "  super().__init__(activity_regularizer=activity_regularizer, **kwargs)\n"
          ]
        }
      ]
    },
    {
      "cell_type": "code",
      "source": [
        "model.compile(optimizer='adam', loss='mse')"
      ],
      "metadata": {
        "id": "UA0laYN2J5il"
      },
      "execution_count": 32,
      "outputs": []
    },
    {
      "cell_type": "code",
      "source": [
        "history = model.fit(x, y, epochs=100, verbose=0)"
      ],
      "metadata": {
        "id": "EBee1kT4J7kF"
      },
      "execution_count": 37,
      "outputs": []
    },
    {
      "cell_type": "code",
      "source": [
        "y_pred = model.predict(x)"
      ],
      "metadata": {
        "id": "chv5HL-lKBPc",
        "outputId": "4e2329c6-c0e7-4835-c7ca-49edfb444fea",
        "colab": {
          "base_uri": "https://localhost:8080/"
        }
      },
      "execution_count": 39,
      "outputs": [
        {
          "output_type": "stream",
          "name": "stdout",
          "text": [
            "\u001b[1m4/4\u001b[0m \u001b[32m━━━━━━━━━━━━━━━━━━━━\u001b[0m\u001b[37m\u001b[0m \u001b[1m0s\u001b[0m 6ms/step \n"
          ]
        }
      ]
    },
    {
      "cell_type": "markdown",
      "source": [
        "# **split data to test/train**"
      ],
      "metadata": {
        "id": "-webQUPFMOQL"
      }
    },
    {
      "cell_type": "code",
      "source": [
        "len(x)"
      ],
      "metadata": {
        "id": "aRLE59SsL086",
        "outputId": "b69f8842-4d53-4173-c734-acbdb50fd2f2",
        "colab": {
          "base_uri": "https://localhost:8080/"
        }
      },
      "execution_count": 43,
      "outputs": [
        {
          "output_type": "execute_result",
          "data": {
            "text/plain": [
              "100"
            ]
          },
          "metadata": {},
          "execution_count": 43
        }
      ]
    },
    {
      "cell_type": "code",
      "source": [
        "x_train = x[:90]\n",
        "x_test = x[90:]\n",
        "y_train = y[:90]\n",
        "y_test = y[90:]"
      ],
      "metadata": {
        "id": "ArkHcPApLu20"
      },
      "execution_count": 45,
      "outputs": []
    },
    {
      "cell_type": "markdown",
      "source": [
        "# **Visualizing**"
      ],
      "metadata": {
        "id": "yGCgen4DN1PU"
      }
    },
    {
      "cell_type": "code",
      "source": [
        "plt.scatter(x_train, y_train, label='Training data')\n",
        "plt.scatter(x_test, y_test, label='Testing data')\n",
        "plt.legend()\n",
        "plt.show()"
      ],
      "metadata": {
        "id": "vYEJdeDtNxTa",
        "outputId": "5e5d5c07-10ab-413c-e038-3e47f7a12c36",
        "colab": {
          "base_uri": "https://localhost:8080/",
          "height": 430
        }
      },
      "execution_count": 48,
      "outputs": [
        {
          "output_type": "display_data",
          "data": {
            "text/plain": [
              "<Figure size 640x480 with 1 Axes>"
            ],
            "image/png": "[encoded data removed]"
          },
          "metadata": {}
        }
      ]
    }
  ],
  "metadata": {
    "colab": {
      "name": "Welcome To Colab",
      "provenance": []
    },
    "kernelspec": {
      "display_name": "Python 3",
      "name": "python3"
    }
  },
  "nbformat": 4,
  "nbformat_minor": 0
}